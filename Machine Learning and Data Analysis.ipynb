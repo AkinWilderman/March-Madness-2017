{
 "cells": [
  {
   "cell_type": "code",
   "execution_count": 1,
   "metadata": {
    "collapsed": false
   },
   "outputs": [
    {
     "name": "stderr",
     "output_type": "stream",
     "text": [
      "Using TensorFlow backend.\n"
     ]
    }
   ],
   "source": [
    "import sklearn\n",
    "import pandas as pd\n",
    "import numpy as np\n",
    "from __future__ import division\n",
    "import collections\n",
    "from sklearn.cross_validation import train_test_split\n",
    "from sklearn import svm\n",
    "from sklearn.svm import SVC\n",
    "from sklearn import linear_model\n",
    "from sklearn import tree\n",
    "from keras.models import Sequential\n",
    "from keras.layers import Convolution2D, MaxPooling2D, Convolution1D\n",
    "from keras.layers import Activation, Dropout, Flatten, Dense\n",
    "from keras.optimizers import SGD\n",
    "from sklearn.cross_validation import cross_val_score\n",
    "from keras.utils import np_utils\n",
    "from sklearn.neighbors import KNeighborsClassifier\n",
    "import matplotlib.pyplot as plt\n",
    "from sklearn.ensemble import RandomForestClassifier\n",
    "from sklearn.ensemble import AdaBoostClassifier\n",
    "from sklearn.ensemble import GradientBoostingClassifier\n",
    "import sys\n",
    "from sklearn.ensemble import GradientBoostingRegressor\n",
    "import math\n",
    "import csv\n",
    "import scipy\n",
    "%matplotlib inline\n",
    "from sklearn.ensemble import VotingClassifier\n",
    "from sklearn.metrics import classification_report\n",
    "import urllib"
   ]
  },
  {
   "cell_type": "code",
   "execution_count": 2,
   "metadata": {
    "collapsed": true
   },
   "outputs": [],
   "source": [
    "xTrain = np.load('xTrain.npy')\n",
    "yTrain = np.load('yTrain.npy')"
   ]
  },
  {
   "cell_type": "code",
   "execution_count": 3,
   "metadata": {
    "collapsed": false
   },
   "outputs": [],
   "source": [
    "categories=['Wins','PPG','PPGA','PowerConf','3PG','TOP', 'APG', 'Conference Champ', 'Tourney Conference Champ',\n",
    "            'Seed','SOS','SRS', 'Rebounds', 'Steals', 'Tourney Appearances','National Championships','Location']\n",
    "df = pd.DataFrame(xTrain, columns=categories)\n",
    "df['Result'] = pd.Series(yTrain)"
   ]
  },
  {
   "cell_type": "code",
   "execution_count": 4,
   "metadata": {
    "collapsed": false
   },
   "outputs": [
    {
     "data": {
      "text/html": [
       "<div>\n",
       "<table border=\"1\" class=\"dataframe\">\n",
       "  <thead>\n",
       "    <tr style=\"text-align: right;\">\n",
       "      <th></th>\n",
       "      <th>Wins</th>\n",
       "      <th>PPG</th>\n",
       "      <th>PPGA</th>\n",
       "      <th>PowerConf</th>\n",
       "      <th>3PG</th>\n",
       "      <th>TOP</th>\n",
       "      <th>APG</th>\n",
       "      <th>Conference Champ</th>\n",
       "      <th>Tourney Conference Champ</th>\n",
       "      <th>Seed</th>\n",
       "      <th>SOS</th>\n",
       "      <th>SRS</th>\n",
       "      <th>Rebounds</th>\n",
       "      <th>Steals</th>\n",
       "      <th>Tourney Appearances</th>\n",
       "      <th>National Championships</th>\n",
       "      <th>Location</th>\n",
       "      <th>Result</th>\n",
       "    </tr>\n",
       "  </thead>\n",
       "  <tbody>\n",
       "    <tr>\n",
       "      <th>0</th>\n",
       "      <td>7.0</td>\n",
       "      <td>15.266129</td>\n",
       "      <td>11.495392</td>\n",
       "      <td>1.0</td>\n",
       "      <td>-0.003456</td>\n",
       "      <td>0.0</td>\n",
       "      <td>6.231567</td>\n",
       "      <td>0.0</td>\n",
       "      <td>0.0</td>\n",
       "      <td>-22.0</td>\n",
       "      <td>13.75</td>\n",
       "      <td>17.34</td>\n",
       "      <td>0.0</td>\n",
       "      <td>4.672811</td>\n",
       "      <td>4.0</td>\n",
       "      <td>0.0</td>\n",
       "      <td>1.0</td>\n",
       "      <td>1.0</td>\n",
       "    </tr>\n",
       "    <tr>\n",
       "      <th>1</th>\n",
       "      <td>-12.0</td>\n",
       "      <td>-4.501152</td>\n",
       "      <td>9.720046</td>\n",
       "      <td>-1.0</td>\n",
       "      <td>0.109447</td>\n",
       "      <td>-0.0</td>\n",
       "      <td>-6.464286</td>\n",
       "      <td>0.0</td>\n",
       "      <td>0.0</td>\n",
       "      <td>24.0</td>\n",
       "      <td>-15.49</td>\n",
       "      <td>-29.52</td>\n",
       "      <td>-0.0</td>\n",
       "      <td>2.896313</td>\n",
       "      <td>-12.0</td>\n",
       "      <td>-1.0</td>\n",
       "      <td>1.0</td>\n",
       "      <td>0.0</td>\n",
       "    </tr>\n",
       "    <tr>\n",
       "      <th>2</th>\n",
       "      <td>9.0</td>\n",
       "      <td>14.339719</td>\n",
       "      <td>0.476373</td>\n",
       "      <td>1.0</td>\n",
       "      <td>-0.120051</td>\n",
       "      <td>0.0</td>\n",
       "      <td>6.784163</td>\n",
       "      <td>0.0</td>\n",
       "      <td>0.0</td>\n",
       "      <td>-17.0</td>\n",
       "      <td>5.76</td>\n",
       "      <td>18.88</td>\n",
       "      <td>0.0</td>\n",
       "      <td>5.199234</td>\n",
       "      <td>14.0</td>\n",
       "      <td>0.0</td>\n",
       "      <td>1.0</td>\n",
       "      <td>1.0</td>\n",
       "    </tr>\n",
       "    <tr>\n",
       "      <th>3</th>\n",
       "      <td>-5.0</td>\n",
       "      <td>-3.200893</td>\n",
       "      <td>1.906250</td>\n",
       "      <td>-1.0</td>\n",
       "      <td>-2.223214</td>\n",
       "      <td>-0.0</td>\n",
       "      <td>-3.303571</td>\n",
       "      <td>0.0</td>\n",
       "      <td>0.0</td>\n",
       "      <td>11.0</td>\n",
       "      <td>-14.70</td>\n",
       "      <td>-20.11</td>\n",
       "      <td>-0.0</td>\n",
       "      <td>0.151786</td>\n",
       "      <td>-5.0</td>\n",
       "      <td>0.0</td>\n",
       "      <td>1.0</td>\n",
       "      <td>0.0</td>\n",
       "    </tr>\n",
       "    <tr>\n",
       "      <th>4</th>\n",
       "      <td>1.0</td>\n",
       "      <td>-0.855556</td>\n",
       "      <td>0.596296</td>\n",
       "      <td>0.0</td>\n",
       "      <td>0.718519</td>\n",
       "      <td>0.0</td>\n",
       "      <td>-0.159259</td>\n",
       "      <td>0.0</td>\n",
       "      <td>0.0</td>\n",
       "      <td>0.0</td>\n",
       "      <td>2.37</td>\n",
       "      <td>0.92</td>\n",
       "      <td>0.0</td>\n",
       "      <td>-1.944444</td>\n",
       "      <td>10.0</td>\n",
       "      <td>0.0</td>\n",
       "      <td>-1.0</td>\n",
       "      <td>1.0</td>\n",
       "    </tr>\n",
       "  </tbody>\n",
       "</table>\n",
       "</div>"
      ],
      "text/plain": [
       "   Wins        PPG       PPGA  PowerConf       3PG  TOP       APG  \\\n",
       "0   7.0  15.266129  11.495392        1.0 -0.003456  0.0  6.231567   \n",
       "1 -12.0  -4.501152   9.720046       -1.0  0.109447 -0.0 -6.464286   \n",
       "2   9.0  14.339719   0.476373        1.0 -0.120051  0.0  6.784163   \n",
       "3  -5.0  -3.200893   1.906250       -1.0 -2.223214 -0.0 -3.303571   \n",
       "4   1.0  -0.855556   0.596296        0.0  0.718519  0.0 -0.159259   \n",
       "\n",
       "   Conference Champ  Tourney Conference Champ  Seed    SOS    SRS  Rebounds  \\\n",
       "0               0.0                       0.0 -22.0  13.75  17.34       0.0   \n",
       "1               0.0                       0.0  24.0 -15.49 -29.52      -0.0   \n",
       "2               0.0                       0.0 -17.0   5.76  18.88       0.0   \n",
       "3               0.0                       0.0  11.0 -14.70 -20.11      -0.0   \n",
       "4               0.0                       0.0   0.0   2.37   0.92       0.0   \n",
       "\n",
       "     Steals  Tourney Appearances  National Championships  Location  Result  \n",
       "0  4.672811                  4.0                     0.0       1.0     1.0  \n",
       "1  2.896313                -12.0                    -1.0       1.0     0.0  \n",
       "2  5.199234                 14.0                     0.0       1.0     1.0  \n",
       "3  0.151786                 -5.0                     0.0       1.0     0.0  \n",
       "4 -1.944444                 10.0                     0.0      -1.0     1.0  "
      ]
     },
     "execution_count": 4,
     "metadata": {},
     "output_type": "execute_result"
    }
   ],
   "source": [
    "df.head()"
   ]
  },
  {
   "cell_type": "markdown",
   "metadata": {},
   "source": [
    "Basically, on average the winners of basketball games have the following difference between themselves and the opponenet in the below categories. "
   ]
  },
  {
   "cell_type": "code",
   "execution_count": 5,
   "metadata": {
    "collapsed": false
   },
   "outputs": [
    {
     "name": "stdout",
     "output_type": "stream",
     "text": [
      "The mean of category Wins :  4.5340811044\n",
      "The mean of category PPG :  2.68545764392\n",
      "The mean of category PPGA :  -2.19561110293\n",
      "The mean of category PowerConf :  0.0917046715149\n",
      "The mean of category 3PG :  0.387640043536\n",
      "The mean of category TOP :  -0.0435052573977\n",
      "The mean of category APG :  1.09011469794\n",
      "The mean of category Conference Champ :  0.0176436407177\n",
      "The mean of category Tourney Conference Champ :  0.0155130214295\n",
      "The mean of category Seed :  -3.3596168407\n",
      "The mean of category SOS :  1.40347995281\n",
      "The mean of category SRS :  5.85602701132\n",
      "The mean of category Rebounds :  1.6099734698\n",
      "The mean of category Steals :  0.390964367582\n",
      "The mean of category Tourney Appearances :  2.53305981582\n",
      "The mean of category National Championships :  0.0907890334736\n",
      "The mean of category Location :  0.293409166945\n"
     ]
    }
   ],
   "source": [
    "allWins = df[df['Result'] == 1]\n",
    "for cat in categories:\n",
    "    print 'The mean of category', cat, ': ',(allWins[cat]).mean()"
   ]
  },
  {
   "cell_type": "code",
   "execution_count": 6,
   "metadata": {
    "collapsed": false
   },
   "outputs": [
    {
     "name": "stdout",
     "output_type": "stream",
     "text": [
      "The Pearson correlation between the result and Wins is : (0.55163803336450568, 0.0)\n",
      "The Pearson correlation between the result and PPG is : (0.34523822230414264, 0.0)\n",
      "The Pearson correlation between the result and PPGA is : (-0.3034556123442686, 0.0)\n",
      "The Pearson correlation between the result and PowerConf is : (0.22539419215811074, 0.0)\n",
      "The Pearson correlation between the result and 3PG is : (0.14642298473285648, 0.0)\n",
      "The Pearson correlation between the result and TOP is : (-0.0077929646979420725, 0.0086339768643220165)\n",
      "The Pearson correlation between the result and APG is : (0.2235190440075864, 0.0)\n",
      "The Pearson correlation between the result and Conference Champ is : (0.11065630001203593, 3.1981147242103643e-306)\n",
      "The Pearson correlation between the result and Tourney Conference Champ is : (0.0993667099987873, 4.7524476396603651e-247)\n",
      "The Pearson correlation between the result and Seed is : (-0.36884650190422463, 0.0)\n",
      "The Pearson correlation between the result and SOS is : (0.29041688560416967, 0.0)\n",
      "The Pearson correlation between the result and SRS is : (0.53511972081821868, 0.0)\n",
      "The Pearson correlation between the result and Rebounds is : (0.15141653382632675, 0.0)\n",
      "The Pearson correlation between the result and Steals is : (0.1364765094039172, 0.0)\n",
      "The Pearson correlation between the result and Tourney Appearances is : (0.3280329128338767, 0.0)\n",
      "The Pearson correlation between the result and National Championships is : (0.13635835920020598, 0.0)\n",
      "The Pearson correlation between the result and Location is : (0.003407788588886428, 0.25080127192643203)\n"
     ]
    }
   ],
   "source": [
    "for cat in categories:\n",
    "    print 'The Pearson correlation between the result and', cat, 'is :',scipy.stats.pearsonr(df[cat], df['Result'])"
   ]
  },
  {
   "cell_type": "code",
   "execution_count": 72,
   "metadata": {
    "collapsed": false
   },
   "outputs": [
    {
     "data": {
      "text/plain": [
       "array(['SRS', 'Tourney Conference Champ', 'PowerConf', 'APG',\n",
       "       'National Championships'], \n",
       "      dtype='|S24')"
      ]
     },
     "execution_count": 72,
     "metadata": {},
     "output_type": "execute_result"
    }
   ],
   "source": [
    "categories=['PPG','PPGA','PowerConf','3PG','TOP', 'APG', 'Conference Champ', 'Tourney Conference Champ',\n",
    "            'Seed','SOS','SRS', 'Rebounds', 'Steals', 'Tourney Appearances','National Championships','Location']\n",
    "np.random.choice(categories,5, replace=False)"
   ]
  },
  {
   "cell_type": "code",
   "execution_count": 91,
   "metadata": {
    "collapsed": false
   },
   "outputs": [
    {
     "name": "stdout",
     "output_type": "stream",
     "text": [
      "Iteration 0 Done\n",
      "Iteration 1 Done\n",
      "Iteration 2 Done\n",
      "Iteration 3 Done\n",
      "Iteration 4 Done\n",
      "Iteration 5 Done\n",
      "Iteration 6 Done\n",
      "Iteration 7 Done\n",
      "Iteration 8 Done\n",
      "Iteration 9 Done\n",
      "Iteration 10 Done\n",
      "Iteration 11 Done\n",
      "Iteration 12 Done\n",
      "Iteration 13 Done\n",
      "Iteration 14 Done\n",
      "Iteration 15 Done\n",
      "Iteration 16 Done\n",
      "Iteration 17 Done\n",
      "Iteration 18 Done\n",
      "Iteration 19 Done\n",
      "Iteration 20 Done\n",
      "Iteration 21 Done\n",
      "Iteration 22 Done\n",
      "Iteration 23 Done\n",
      "Iteration 24 Done\n",
      "Iteration 25 Done\n",
      "Iteration 26 Done\n",
      "Iteration 27 Done\n",
      "Iteration 28 Done\n",
      "Iteration 29 Done\n",
      "Iteration 30 Done\n",
      "Iteration 31 Done\n",
      "Iteration 32 Done\n",
      "Iteration 33 Done\n",
      "Iteration 34 Done\n",
      "Iteration 35 Done\n",
      "Iteration 36 Done\n",
      "Iteration 37 Done\n",
      "Iteration 38 Done\n",
      "Iteration 39 Done\n",
      "Iteration 40 Done\n",
      "Iteration 41 Done\n",
      "Iteration 42 Done\n",
      "Iteration 43 Done\n",
      "Iteration 44 Done\n",
      "Iteration 45 Done\n",
      "Iteration 46 Done\n",
      "Iteration 47 Done\n",
      "Iteration 48 Done\n",
      "Iteration 49 Done\n",
      "Iteration 50 Done\n",
      "Iteration 51 Done\n",
      "Iteration 52 Done\n",
      "Iteration 53 Done\n"
     ]
    },
    {
     "ename": "KeyboardInterrupt",
     "evalue": "",
     "output_type": "error",
     "traceback": [
      "\u001b[0;31m---------------------------------------------------------------------------\u001b[0m",
      "\u001b[0;31mKeyboardInterrupt\u001b[0m                         Traceback (most recent call last)",
      "\u001b[0;32m<ipython-input-91-d0c314d12e51>\u001b[0m in \u001b[0;36m<module>\u001b[0;34m()\u001b[0m\n\u001b[1;32m     25\u001b[0m             \u001b[0mX_train\u001b[0m\u001b[0;34m,\u001b[0m \u001b[0mX_test\u001b[0m\u001b[0;34m,\u001b[0m \u001b[0mY_train\u001b[0m\u001b[0;34m,\u001b[0m \u001b[0mY_test\u001b[0m \u001b[0;34m=\u001b[0m \u001b[0mtrain_test_split\u001b[0m\u001b[0;34m(\u001b[0m\u001b[0mmodifiedxTrain\u001b[0m\u001b[0;34m,\u001b[0m \u001b[0myTrain\u001b[0m\u001b[0;34m)\u001b[0m\u001b[0;34m\u001b[0m\u001b[0m\n\u001b[1;32m     26\u001b[0m             \u001b[0;31m#X_train, X_test, Y_train, Y_test = train_test_split(xTrain, yTrain)\u001b[0m\u001b[0;34m\u001b[0m\u001b[0;34m\u001b[0m\u001b[0m\n\u001b[0;32m---> 27\u001b[0;31m             \u001b[0mmodel\u001b[0m\u001b[0;34m.\u001b[0m\u001b[0mfit\u001b[0m\u001b[0;34m(\u001b[0m\u001b[0mX_train\u001b[0m\u001b[0;34m,\u001b[0m \u001b[0mY_train\u001b[0m\u001b[0;34m)\u001b[0m\u001b[0;34m\u001b[0m\u001b[0m\n\u001b[0m\u001b[1;32m     28\u001b[0m             \u001b[0mresults\u001b[0m \u001b[0;34m=\u001b[0m \u001b[0mmodel\u001b[0m\u001b[0;34m.\u001b[0m\u001b[0mfit\u001b[0m\u001b[0;34m(\u001b[0m\u001b[0mX_train\u001b[0m\u001b[0;34m,\u001b[0m \u001b[0mY_train\u001b[0m\u001b[0;34m)\u001b[0m\u001b[0;34m\u001b[0m\u001b[0m\n\u001b[1;32m     29\u001b[0m             \u001b[0mpreds\u001b[0m \u001b[0;34m=\u001b[0m \u001b[0mmodel\u001b[0m\u001b[0;34m.\u001b[0m\u001b[0mpredict\u001b[0m\u001b[0;34m(\u001b[0m\u001b[0mX_test\u001b[0m\u001b[0;34m)\u001b[0m\u001b[0;34m\u001b[0m\u001b[0m\n",
      "\u001b[0;32m/Users/adit/anaconda/lib/python2.7/site-packages/sklearn/ensemble/gradient_boosting.pyc\u001b[0m in \u001b[0;36mfit\u001b[0;34m(self, X, y, sample_weight, monitor)\u001b[0m\n\u001b[1;32m   1023\u001b[0m         \u001b[0;31m# fit the boosting stages\u001b[0m\u001b[0;34m\u001b[0m\u001b[0;34m\u001b[0m\u001b[0m\n\u001b[1;32m   1024\u001b[0m         n_stages = self._fit_stages(X, y, y_pred, sample_weight, random_state,\n\u001b[0;32m-> 1025\u001b[0;31m                                     begin_at_stage, monitor, X_idx_sorted)\n\u001b[0m\u001b[1;32m   1026\u001b[0m         \u001b[0;31m# change shape of arrays after fit (early-stopping or additional ests)\u001b[0m\u001b[0;34m\u001b[0m\u001b[0;34m\u001b[0m\u001b[0m\n\u001b[1;32m   1027\u001b[0m         \u001b[0;32mif\u001b[0m \u001b[0mn_stages\u001b[0m \u001b[0;34m!=\u001b[0m \u001b[0mself\u001b[0m\u001b[0;34m.\u001b[0m\u001b[0mestimators_\u001b[0m\u001b[0;34m.\u001b[0m\u001b[0mshape\u001b[0m\u001b[0;34m[\u001b[0m\u001b[0;36m0\u001b[0m\u001b[0;34m]\u001b[0m\u001b[0;34m:\u001b[0m\u001b[0;34m\u001b[0m\u001b[0m\n",
      "\u001b[0;32m/Users/adit/anaconda/lib/python2.7/site-packages/sklearn/ensemble/gradient_boosting.pyc\u001b[0m in \u001b[0;36m_fit_stages\u001b[0;34m(self, X, y, y_pred, sample_weight, random_state, begin_at_stage, monitor, X_idx_sorted)\u001b[0m\n\u001b[1;32m   1078\u001b[0m             y_pred = self._fit_stage(i, X, y, y_pred, sample_weight,\n\u001b[1;32m   1079\u001b[0m                                      \u001b[0msample_mask\u001b[0m\u001b[0;34m,\u001b[0m \u001b[0mrandom_state\u001b[0m\u001b[0;34m,\u001b[0m \u001b[0mX_idx_sorted\u001b[0m\u001b[0;34m,\u001b[0m\u001b[0;34m\u001b[0m\u001b[0m\n\u001b[0;32m-> 1080\u001b[0;31m                                      X_csc, X_csr)\n\u001b[0m\u001b[1;32m   1081\u001b[0m \u001b[0;34m\u001b[0m\u001b[0m\n\u001b[1;32m   1082\u001b[0m             \u001b[0;31m# track deviance (= loss)\u001b[0m\u001b[0;34m\u001b[0m\u001b[0;34m\u001b[0m\u001b[0m\n",
      "\u001b[0;32m/Users/adit/anaconda/lib/python2.7/site-packages/sklearn/ensemble/gradient_boosting.pyc\u001b[0m in \u001b[0;36m_fit_stage\u001b[0;34m(self, i, X, y, y_pred, sample_weight, sample_mask, random_state, X_idx_sorted, X_csc, X_csr)\u001b[0m\n\u001b[1;32m    782\u001b[0m             \u001b[0;32melse\u001b[0m\u001b[0;34m:\u001b[0m\u001b[0;34m\u001b[0m\u001b[0m\n\u001b[1;32m    783\u001b[0m                 tree.fit(X, residual, sample_weight=sample_weight,\n\u001b[0;32m--> 784\u001b[0;31m                          check_input=False, X_idx_sorted=X_idx_sorted)\n\u001b[0m\u001b[1;32m    785\u001b[0m \u001b[0;34m\u001b[0m\u001b[0m\n\u001b[1;32m    786\u001b[0m             \u001b[0;31m# update tree leaves\u001b[0m\u001b[0;34m\u001b[0m\u001b[0;34m\u001b[0m\u001b[0m\n",
      "\u001b[0;32m/Users/adit/anaconda/lib/python2.7/site-packages/sklearn/tree/tree.pyc\u001b[0m in \u001b[0;36mfit\u001b[0;34m(self, X, y, sample_weight, check_input, X_idx_sorted)\u001b[0m\n\u001b[1;32m    348\u001b[0m                                            max_leaf_nodes)\n\u001b[1;32m    349\u001b[0m \u001b[0;34m\u001b[0m\u001b[0m\n\u001b[0;32m--> 350\u001b[0;31m         \u001b[0mbuilder\u001b[0m\u001b[0;34m.\u001b[0m\u001b[0mbuild\u001b[0m\u001b[0;34m(\u001b[0m\u001b[0mself\u001b[0m\u001b[0;34m.\u001b[0m\u001b[0mtree_\u001b[0m\u001b[0;34m,\u001b[0m \u001b[0mX\u001b[0m\u001b[0;34m,\u001b[0m \u001b[0my\u001b[0m\u001b[0;34m,\u001b[0m \u001b[0msample_weight\u001b[0m\u001b[0;34m,\u001b[0m \u001b[0mX_idx_sorted\u001b[0m\u001b[0;34m)\u001b[0m\u001b[0;34m\u001b[0m\u001b[0m\n\u001b[0m\u001b[1;32m    351\u001b[0m \u001b[0;34m\u001b[0m\u001b[0m\n\u001b[1;32m    352\u001b[0m         \u001b[0;32mif\u001b[0m \u001b[0mself\u001b[0m\u001b[0;34m.\u001b[0m\u001b[0mn_outputs_\u001b[0m \u001b[0;34m==\u001b[0m \u001b[0;36m1\u001b[0m\u001b[0;34m:\u001b[0m\u001b[0;34m\u001b[0m\u001b[0m\n",
      "\u001b[0;31mKeyboardInterrupt\u001b[0m: "
     ]
    }
   ],
   "source": [
    "trainDict={}\n",
    "xTrain = df.as_matrix()\n",
    "for i in range(17):   \n",
    "    for p in range(10):\n",
    "        modifiedCategories = np.random.choice(categories,i, replace=False)\n",
    "        modifiedCategories = np.append(modifiedCategories, 'Wins')\n",
    "        modCatList = modifiedCategories.tolist()\n",
    "        str1 = ''.join(modCatList)\n",
    "        modifiedxTrain = df[modifiedCategories].as_matrix()\n",
    "        #model = tree.DecisionTreeClassifier()\n",
    "        #model = tree.DecisionTreeRegressor()\n",
    "        #model = linear_model.LogisticRegression()\n",
    "        #model = linear_model.BayesianRidge()\n",
    "        #model = linear_model.Lasso()\n",
    "        #model = svm.SVC()\n",
    "        #model = svm.SVR()\n",
    "        #model = linear_model.Ridge(alpha = 0.5)\n",
    "        #model = AdaBoostClassifier(n_estimators=100)\n",
    "        #model1 = GradientBoostingClassifier(n_estimators=100)\n",
    "        model = GradientBoostingRegressor(n_estimators=100)\n",
    "        #model = RandomForestClassifier(n_estimators=200)\n",
    "        #model = KNeighborsClassifier(n_neighbors=101)\n",
    "        accuracy=[]\n",
    "        for q in range(10):\n",
    "            X_train, X_test, Y_train, Y_test = train_test_split(modifiedxTrain, yTrain)\n",
    "            #X_train, X_test, Y_train, Y_test = train_test_split(xTrain, yTrain)\n",
    "            model.fit(X_train, Y_train)\n",
    "            results = model.fit(X_train, Y_train)\n",
    "            preds = model.predict(X_test)\n",
    "            preds[preds < .5] = 0\n",
    "            preds[preds >= .5] = 1\n",
    "            accuracy.append(np.mean(preds == Y_test))\n",
    "        trainDict[str1] = sum(accuracy)/len(accuracy)\n",
    "        print 'Iteration',(i*10 + p),'Done'\n",
    "for key, value in sorted(trainDict.iteritems(), key=lambda (k,v): (v,k), reverse=True):\n",
    "    print \"%s: %s\" % (key, value)"
   ]
  },
  {
   "cell_type": "code",
   "execution_count": null,
   "metadata": {
    "collapsed": true
   },
   "outputs": [],
   "source": []
  }
 ],
 "metadata": {
  "anaconda-cloud": {},
  "kernelspec": {
   "display_name": "Python [default]",
   "language": "python",
   "name": "python2"
  },
  "language_info": {
   "codemirror_mode": {
    "name": "ipython",
    "version": 2
   },
   "file_extension": ".py",
   "mimetype": "text/x-python",
   "name": "python",
   "nbconvert_exporter": "python",
   "pygments_lexer": "ipython2",
   "version": "2.7.12"
  }
 },
 "nbformat": 4,
 "nbformat_minor": 1
}
